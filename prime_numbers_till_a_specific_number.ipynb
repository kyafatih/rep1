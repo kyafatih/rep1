{
  "nbformat": 4,
  "nbformat_minor": 0,
  "metadata": {
    "colab": {
      "name": "prime numbers till a specific number.ipynb",
      "provenance": [],
      "collapsed_sections": [],
      "authorship_tag": "ABX9TyNZkKH9R2TuKOTEj1yjUCXR",
      "include_colab_link": true
    },
    "kernelspec": {
      "name": "python3",
      "display_name": "Python 3"
    },
    "language_info": {
      "name": "python"
    }
  },
  "cells": [
    {
      "cell_type": "markdown",
      "metadata": {
        "id": "view-in-github",
        "colab_type": "text"
      },
      "source": [
        "<a href=\"https://colab.research.google.com/github/kyafatih/rep1/blob/main/prime_numbers_till_a_specific_number.ipynb\" target=\"_parent\"><img src=\"https://colab.research.google.com/assets/colab-badge.svg\" alt=\"Open In Colab\"/></a>"
      ]
    },
    {
      "cell_type": "code",
      "execution_count": null,
      "metadata": {
        "id": "XDyT0iPY9WaH"
      },
      "outputs": [],
      "source": [
        "list=[]\n",
        "divider=[]\n",
        "inp1= int(input(\"Till which number you want to see prime numbers?: \"))\n",
        "\n",
        "for i in range(2,inp1):\n",
        "  for j in range(1,i+1):\n",
        "    if i%j==0:\n",
        "      divider.append(j)\n",
        "  if len(divider) <=2:\n",
        "    list.append(i)\n",
        "  divider.clear()\n",
        "print(list)      \n"
      ]
    }
  ]
}