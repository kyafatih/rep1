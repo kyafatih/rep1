{
  "nbformat": 4,
  "nbformat_minor": 0,
  "metadata": {
    "colab": {
      "name": "prime_number.ipynb",
      "provenance": [],
      "collapsed_sections": [],
      "authorship_tag": "ABX9TyPCeShBTLmN4pUZ66KrK29F",
      "include_colab_link": true
    },
    "kernelspec": {
      "name": "python3",
      "display_name": "Python 3"
    },
    "language_info": {
      "name": "python"
    }
  },
  "cells": [
    {
      "cell_type": "markdown",
      "metadata": {
        "id": "view-in-github",
        "colab_type": "text"
      },
      "source": [
        "<a href=\"https://colab.research.google.com/github/kyafatih/rep1/blob/main/prime_number.ipynb\" target=\"_parent\"><img src=\"https://colab.research.google.com/assets/colab-badge.svg\" alt=\"Open In Colab\"/></a>"
      ]
    },
    {
      "cell_type": "code",
      "execution_count": null,
      "metadata": {
        "id": "Zfr1J7TV0fuK"
      },
      "outputs": [],
      "source": [
        "a = int(input(\"give me a number\"))\n",
        "\n",
        "list = []\n",
        "\n",
        "for i in range(a+1):\n",
        "  if a%(i+1)==0:\n",
        "    list.append(i+1)\n",
        "if len(list) <= 2:\n",
        "  print(\"{} is a prime number\".format(a))\n",
        "else:\n",
        "  print(\"{} is not a prime number\".format(a))"
      ]
    }
  ]
}